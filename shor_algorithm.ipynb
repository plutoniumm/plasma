{
 "cells": [
  {
   "cell_type": "code",
   "execution_count": 1,
   "id": "8bb4c6df-3fd9-49d3-aadf-4cf849a23703",
   "metadata": {
    "tags": []
   },
   "outputs": [],
   "source": [
    "from shor import QFT_d, QuantumCircuit, primes\n",
    "from qiskit import transpile\n",
    "from qiskit_aer import AerSimulator\n",
    "from qiskit.visualization import plot_histogram\n",
    "from fractions import Fraction\n",
    "import numpy as np"
   ]
  },
  {
   "cell_type": "code",
   "execution_count": 7,
   "id": "a4176387",
   "metadata": {},
   "outputs": [],
   "source": [
    "gcd = np.gcd"
   ]
  },
  {
   "cell_type": "code",
   "execution_count": 8,
   "id": "3df1e9fb",
   "metadata": {},
   "outputs": [],
   "source": [
    "backend = AerSimulator()"
   ]
  },
  {
   "cell_type": "code",
   "execution_count": 9,
   "id": "666d5a5a-f3ce-4d8f-93ec-facc084778e5",
   "metadata": {
    "tags": []
   },
   "outputs": [],
   "source": [
    "def c_amod15(a, power):\n",
    "  if a not in [2,4,7,8,11,13]:\n",
    "    raise ValueError(\"'a' must be 2,4,7,8,11 or 13\")\n",
    "  U = QuantumCircuit(4)\n",
    "  for _ in range(power):\n",
    "    if a in [2,13]:\n",
    "      U.swap(2,3)\n",
    "      U.swap(1,2)\n",
    "      U.swap(0,1)\n",
    "    if a in [7,8]:\n",
    "      U.swap(0,1)\n",
    "      U.swap(1,2)\n",
    "      U.swap(2,3)\n",
    "    if a in [4, 11]:\n",
    "      U.swap(1,3)\n",
    "      U.swap(0,2)\n",
    "    if a in [7,11,13]:\n",
    "      for q in range(4):\n",
    "        U.x(q)\n",
    "  U = U.to_gate()\n",
    "  U.name = f\"{a}^{power} mod 15\"\n",
    "  c_U = U.control()\n",
    "\n",
    "  return c_U"
   ]
  },
  {
   "cell_type": "code",
   "execution_count": 16,
   "id": "106199ef",
   "metadata": {},
   "outputs": [
    {
     "data": {
      "text/html": [
       "<pre style=\"word-wrap: normal;white-space: pre;background: #fff0;line-height: 1.1;font-family: &quot;Courier New&quot;,Courier,monospace\">      ┌───┐                                                                                                                             ┌───────┐┌─┐                     \n",
       " q_0: ┤ H ├───────■─────────────────────────────────────────────────────────────────────────────────────────────────────────────────────┤0      ├┤M├─────────────────────\n",
       "      ├───┤       │                                                                                                                     │       │└╥┘┌─┐                  \n",
       " q_1: ┤ H ├───────┼──────────────■──────────────────────────────────────────────────────────────────────────────────────────────────────┤1      ├─╫─┤M├──────────────────\n",
       "      ├───┤       │              │                                                                                                      │       │ ║ └╥┘┌─┐               \n",
       " q_2: ┤ H ├───────┼──────────────┼──────────────■───────────────────────────────────────────────────────────────────────────────────────┤2      ├─╫──╫─┤M├───────────────\n",
       "      ├───┤       │              │              │                                                                                       │       │ ║  ║ └╥┘┌─┐            \n",
       " q_3: ┤ H ├───────┼──────────────┼──────────────┼──────────────■────────────────────────────────────────────────────────────────────────┤3      ├─╫──╫──╫─┤M├────────────\n",
       "      ├───┤       │              │              │              │                                                                        │  QFT† │ ║  ║  ║ └╥┘┌─┐         \n",
       " q_4: ┤ H ├───────┼──────────────┼──────────────┼──────────────┼──────────────■─────────────────────────────────────────────────────────┤4      ├─╫──╫──╫──╫─┤M├─────────\n",
       "      ├───┤       │              │              │              │              │                                                         │       │ ║  ║  ║  ║ └╥┘┌─┐      \n",
       " q_5: ┤ H ├───────┼──────────────┼──────────────┼──────────────┼──────────────┼───────────────■─────────────────────────────────────────┤5      ├─╫──╫──╫──╫──╫─┤M├──────\n",
       "      ├───┤       │              │              │              │              │               │                                         │       │ ║  ║  ║  ║  ║ └╥┘┌─┐   \n",
       " q_6: ┤ H ├───────┼──────────────┼──────────────┼──────────────┼──────────────┼───────────────┼───────────────■─────────────────────────┤6      ├─╫──╫──╫──╫──╫──╫─┤M├───\n",
       "      ├───┤       │              │              │              │              │               │               │                         │       │ ║  ║  ║  ║  ║  ║ └╥┘┌─┐\n",
       " q_7: ┤ H ├───────┼──────────────┼──────────────┼──────────────┼──────────────┼───────────────┼───────────────┼────────────────■────────┤7      ├─╫──╫──╫──╫──╫──╫──╫─┤M├\n",
       "      └───┘┌──────┴──────┐┌──────┴──────┐┌──────┴──────┐┌──────┴──────┐┌──────┴───────┐┌──────┴───────┐┌──────┴───────┐┌───────┴───────┐└───────┘ ║  ║  ║  ║  ║  ║  ║ └╥┘\n",
       " q_8: ─────┤0            ├┤0            ├┤0            ├┤0            ├┤0             ├┤0             ├┤0             ├┤0              ├──────────╫──╫──╫──╫──╫──╫──╫──╫─\n",
       "           │             ││             ││             ││             ││              ││              ││              ││               │          ║  ║  ║  ║  ║  ║  ║  ║ \n",
       " q_9: ─────┤1            ├┤1            ├┤1            ├┤1            ├┤1             ├┤1             ├┤1             ├┤1              ├──────────╫──╫──╫──╫──╫──╫──╫──╫─\n",
       "           │  7^1 mod 15 ││  7^2 mod 15 ││  7^4 mod 15 ││  7^8 mod 15 ││  7^16 mod 15 ││  7^32 mod 15 ││  7^64 mod 15 ││  7^128 mod 15 │          ║  ║  ║  ║  ║  ║  ║  ║ \n",
       "q_10: ─────┤2            ├┤2            ├┤2            ├┤2            ├┤2             ├┤2             ├┤2             ├┤2              ├──────────╫──╫──╫──╫──╫──╫──╫──╫─\n",
       "      ┌───┐│             ││             ││             ││             ││              ││              ││              ││               │          ║  ║  ║  ║  ║  ║  ║  ║ \n",
       "q_11: ┤ X ├┤3            ├┤3            ├┤3            ├┤3            ├┤3             ├┤3             ├┤3             ├┤3              ├──────────╫──╫──╫──╫──╫──╫──╫──╫─\n",
       "      └───┘└─────────────┘└─────────────┘└─────────────┘└─────────────┘└──────────────┘└──────────────┘└──────────────┘└───────────────┘          ║  ║  ║  ║  ║  ║  ║  ║ \n",
       " c: 8/════════════════════════════════════════════════════════════════════════════════════════════════════════════════════════════════════════════╩══╩══╩══╩══╩══╩══╩══╩═\n",
       "                                                                                                                                                  0  1  2  3  4  5  6  7 </pre>"
      ],
      "text/plain": [
       "      ┌───┐                                                                                                                             ┌───────┐┌─┐                     \n",
       " q_0: ┤ H ├───────■─────────────────────────────────────────────────────────────────────────────────────────────────────────────────────┤0      ├┤M├─────────────────────\n",
       "      ├───┤       │                                                                                                                     │       │└╥┘┌─┐                  \n",
       " q_1: ┤ H ├───────┼──────────────■──────────────────────────────────────────────────────────────────────────────────────────────────────┤1      ├─╫─┤M├──────────────────\n",
       "      ├───┤       │              │                                                                                                      │       │ ║ └╥┘┌─┐               \n",
       " q_2: ┤ H ├───────┼──────────────┼──────────────■───────────────────────────────────────────────────────────────────────────────────────┤2      ├─╫──╫─┤M├───────────────\n",
       "      ├───┤       │              │              │                                                                                       │       │ ║  ║ └╥┘┌─┐            \n",
       " q_3: ┤ H ├───────┼──────────────┼──────────────┼──────────────■────────────────────────────────────────────────────────────────────────┤3      ├─╫──╫──╫─┤M├────────────\n",
       "      ├───┤       │              │              │              │                                                                        │  QFT† │ ║  ║  ║ └╥┘┌─┐         \n",
       " q_4: ┤ H ├───────┼──────────────┼──────────────┼──────────────┼──────────────■─────────────────────────────────────────────────────────┤4      ├─╫──╫──╫──╫─┤M├─────────\n",
       "      ├───┤       │              │              │              │              │                                                         │       │ ║  ║  ║  ║ └╥┘┌─┐      \n",
       " q_5: ┤ H ├───────┼──────────────┼──────────────┼──────────────┼──────────────┼───────────────■─────────────────────────────────────────┤5      ├─╫──╫──╫──╫──╫─┤M├──────\n",
       "      ├───┤       │              │              │              │              │               │                                         │       │ ║  ║  ║  ║  ║ └╥┘┌─┐   \n",
       " q_6: ┤ H ├───────┼──────────────┼──────────────┼──────────────┼──────────────┼───────────────┼───────────────■─────────────────────────┤6      ├─╫──╫──╫──╫──╫──╫─┤M├───\n",
       "      ├───┤       │              │              │              │              │               │               │                         │       │ ║  ║  ║  ║  ║  ║ └╥┘┌─┐\n",
       " q_7: ┤ H ├───────┼──────────────┼──────────────┼──────────────┼──────────────┼───────────────┼───────────────┼────────────────■────────┤7      ├─╫──╫──╫──╫──╫──╫──╫─┤M├\n",
       "      └───┘┌──────┴──────┐┌──────┴──────┐┌──────┴──────┐┌──────┴──────┐┌──────┴───────┐┌──────┴───────┐┌──────┴───────┐┌───────┴───────┐└───────┘ ║  ║  ║  ║  ║  ║  ║ └╥┘\n",
       " q_8: ─────┤0            ├┤0            ├┤0            ├┤0            ├┤0             ├┤0             ├┤0             ├┤0              ├──────────╫──╫──╫──╫──╫──╫──╫──╫─\n",
       "           │             ││             ││             ││             ││              ││              ││              ││               │          ║  ║  ║  ║  ║  ║  ║  ║ \n",
       " q_9: ─────┤1            ├┤1            ├┤1            ├┤1            ├┤1             ├┤1             ├┤1             ├┤1              ├──────────╫──╫──╫──╫──╫──╫──╫──╫─\n",
       "           │  7^1 mod 15 ││  7^2 mod 15 ││  7^4 mod 15 ││  7^8 mod 15 ││  7^16 mod 15 ││  7^32 mod 15 ││  7^64 mod 15 ││  7^128 mod 15 │          ║  ║  ║  ║  ║  ║  ║  ║ \n",
       "q_10: ─────┤2            ├┤2            ├┤2            ├┤2            ├┤2             ├┤2             ├┤2             ├┤2              ├──────────╫──╫──╫──╫──╫──╫──╫──╫─\n",
       "      ┌───┐│             ││             ││             ││             ││              ││              ││              ││               │          ║  ║  ║  ║  ║  ║  ║  ║ \n",
       "q_11: ┤ X ├┤3            ├┤3            ├┤3            ├┤3            ├┤3             ├┤3             ├┤3             ├┤3              ├──────────╫──╫──╫──╫──╫──╫──╫──╫─\n",
       "      └───┘└─────────────┘└─────────────┘└─────────────┘└─────────────┘└──────────────┘└──────────────┘└──────────────┘└───────────────┘          ║  ║  ║  ║  ║  ║  ║  ║ \n",
       " c: 8/════════════════════════════════════════════════════════════════════════════════════════════════════════════════════════════════════════════╩══╩══╩══╩══╩══╩══╩══╩═\n",
       "                                                                                                                                                  0  1  2  3  4  5  6  7 "
      ]
     },
     "execution_count": 16,
     "metadata": {},
     "output_type": "execute_result"
    }
   ],
   "source": [
    "# demo 1 circuit\n",
    "n_count = 8\n",
    "a = 7\n",
    "qc = QuantumCircuit(n_count + 4, n_count)\n",
    "qc.h(range(n_count))\n",
    "qc.x(3+n_count)\n",
    "for q in range(n_count):\n",
    "  qc.append(c_amod15(a, 2**q), [q] + [i+n_count for i in range(4)])\n",
    "qc.append(QFT_d(n_count), range(n_count))\n",
    "qc.measure(range(n_count), range(n_count))\n",
    "qc.draw(fold=-1)"
   ]
  },
  {
   "cell_type": "code",
   "execution_count": 10,
   "id": "20025ca7-71ed-4215-a8a4-a6d1ab5173a3",
   "metadata": {
    "tags": []
   },
   "outputs": [],
   "source": [
    "def qpe_amod15(a):\n",
    "  N_COUNT = 8\n",
    "  qc = QuantumCircuit(4+N_COUNT, N_COUNT)\n",
    "  for q in range(N_COUNT):\n",
    "    qc.h(q)     # Initialize counting qubits in state |+>\n",
    "  qc.x(3+N_COUNT) # And auxiliary register in state |1>\n",
    "  for q in range(N_COUNT): # Do controlled-U operations\n",
    "    qc.append(\n",
    "      c_amod15(a, 2**q),\n",
    "      [q] + [i+N_COUNT for i in range(4)]\n",
    "    )\n",
    "  qc.append(QFT_d(N_COUNT), range(N_COUNT)) # Do inverse-QFT\n",
    "  qc.measure(range(N_COUNT), range(N_COUNT))\n",
    "\n",
    "  job = backend.run(transpile(qc, backend), shots=1, memory=True)\n",
    "  readings = job.result().get_memory()\n",
    "  print(\"Register: \" + readings[0])\n",
    "  phase = int(readings[0],2)/(2**N_COUNT)\n",
    "  print(f\"Phase: {phase}\")\n",
    "  return phase"
   ]
  },
  {
   "cell_type": "code",
   "execution_count": 11,
   "id": "e3307c70-8206-4d03-ae03-1831149fe68f",
   "metadata": {
    "tags": []
   },
   "outputs": [
    {
     "name": "stdout",
     "output_type": "stream",
     "text": [
      "Register Reading: 11000000\n",
      "Corresponding Phase: 0.75\n",
      "[3, 5]\n"
     ]
    }
   ],
   "source": [
    "N = 15\n",
    "a = 7\n",
    "phase = qpe_amod15(a) # Phase = s/r\n",
    "frac = Fraction(phase).limit_denominator(15)\n",
    "r = frac.denominator\n",
    "guesses = [gcd(a**(r//2)-1, N), gcd(a**(r//2)+1, N)]\n",
    "print(guesses)"
   ]
  },
  {
   "cell_type": "code",
   "execution_count": 13,
   "id": "fd95996d-c25b-4f38-9653-127b9893d87d",
   "metadata": {
    "tags": []
   },
   "outputs": [
    {
     "name": "stdout",
     "output_type": "stream",
     "text": [
      "\n",
      "ATTEMPT 1:\n",
      "Register Reading: 10000000\n",
      "Corresponding Phase: 0.5\n",
      "Result: r = 2\n",
      "Guessed Factors: 3 and 1\n",
      "*** Non-trivial factor found: 3 ***\n"
     ]
    }
   ],
   "source": [
    "FACTOR_FOUND = False\n",
    "ATTEMPT = 0\n",
    "while not FACTOR_FOUND:\n",
    "  ATTEMPT += 1\n",
    "  print(f\"\\nATTEMPT {ATTEMPT}:\")\n",
    "  phase = qpe_amod15(a) # Phase = s/r\n",
    "  frac = Fraction(phase).limit_denominator(N)\n",
    "  r = frac.denominator\n",
    "  if r == 1:\n",
    "    continue\n",
    "  print(f\"Result: r = {r}\")\n",
    "  if phase != 0:\n",
    "    # Guesses for factors are gcd(x^{r/2} ±1 , 15)\n",
    "    guesses = [gcd(a**(r//2)-1, N), gcd(a**(r//2)+1, N)]\n",
    "    print(f\"Guessed Factors: {guesses[0]} and {guesses[1]}\")\n",
    "    for guess in guesses:\n",
    "      if guess not in [1,N] and (N % guess) == 0:\n",
    "        # Guess is a factor!\n",
    "        print(f\"*** Non-trivial factor found: {guess} ***\")\n",
    "        FACTOR_FOUND = True"
   ]
  },
  {
   "cell_type": "code",
   "execution_count": null,
   "id": "b7dc7ebc",
   "metadata": {},
   "outputs": [],
   "source": []
  }
 ],
 "metadata": {
  "kernelspec": {
   "display_name": "Python 3 (ipykernel)",
   "language": "python",
   "name": "python3"
  },
  "language_info": {
   "codemirror_mode": {
    "name": "ipython",
    "version": 3
   },
   "file_extension": ".py",
   "mimetype": "text/x-python",
   "name": "python",
   "nbconvert_exporter": "python",
   "pygments_lexer": "ipython3",
   "version": "3.11.5"
  },
  "widgets": {
   "application/vnd.jupyter.widget-state+json": {
    "state": {
     "00e105fde3ea4c5da8c4da903e545238": {
      "model_module": "@jupyter-widgets/base",
      "model_module_version": "2.0.0",
      "model_name": "LayoutModel",
      "state": {
       "width": "70px"
      }
     },
     "0584a9946e2047e1bf5c4ac344fb31db": {
      "model_module": "@jupyter-widgets/controls",
      "model_module_version": "2.0.0",
      "model_name": "HTMLModel",
      "state": {
       "layout": "IPY_MODEL_07021f8209a44991a529faed6838e3a1",
       "style": "IPY_MODEL_17fc3e8858c9463faff1805e879869e0",
       "value": "<h5>Job ID</h5>"
      }
     },
     "07021f8209a44991a529faed6838e3a1": {
      "model_module": "@jupyter-widgets/base",
      "model_module_version": "2.0.0",
      "model_name": "LayoutModel",
      "state": {
       "width": "190px"
      }
     },
     "17fc3e8858c9463faff1805e879869e0": {
      "model_module": "@jupyter-widgets/controls",
      "model_module_version": "2.0.0",
      "model_name": "HTMLStyleModel",
      "state": {
       "description_width": "",
       "font_size": null,
       "text_color": null
      }
     },
     "324b1c1671634129b11fea1c3218066d": {
      "model_module": "@jupyter-widgets/controls",
      "model_module_version": "2.0.0",
      "model_name": "HTMLModel",
      "state": {
       "layout": "IPY_MODEL_3684290f57e4403fb6b802ef783a6ef1",
       "style": "IPY_MODEL_b33cfe28ba5b473ea8631c9cf520af02",
       "value": "<h5>Message</h5>"
      }
     },
     "3684290f57e4403fb6b802ef783a6ef1": {
      "model_module": "@jupyter-widgets/base",
      "model_module_version": "2.0.0",
      "model_name": "LayoutModel",
      "state": {}
     },
     "52b7cbf38cc341daa4bf1178724212e9": {
      "model_module": "@jupyter-widgets/controls",
      "model_module_version": "2.0.0",
      "model_name": "ButtonModel",
      "state": {
       "button_style": "primary",
       "description": "Clear",
       "layout": "IPY_MODEL_a4dfbe0567cb4547988279e13d781e31",
       "style": "IPY_MODEL_ce654ada95584172a94b45e766f00785",
       "tooltip": null
      }
     },
     "6026ea6bb31c441294c5129339f2473c": {
      "model_module": "@jupyter-widgets/controls",
      "model_module_version": "2.0.0",
      "model_name": "HTMLModel",
      "state": {
       "layout": "IPY_MODEL_c91e6083215c47868895f49e6c84b0ec",
       "style": "IPY_MODEL_9bbfff58f29f4d1b826c3e8b63a5c404",
       "value": "<h5>Status</h5>"
      }
     },
     "605db932aba441c58094dd5931dd37dd": {
      "model_module": "@jupyter-widgets/controls",
      "model_module_version": "2.0.0",
      "model_name": "HTMLModel",
      "state": {
       "layout": "IPY_MODEL_00e105fde3ea4c5da8c4da903e545238",
       "style": "IPY_MODEL_f139b4dd08c84181be95dd61221941a9",
       "value": "<h5>Queue</h5>"
      }
     },
     "636b16822788407489863b6520929cf7": {
      "model_module": "@jupyter-widgets/base",
      "model_module_version": "2.0.0",
      "model_name": "LayoutModel",
      "state": {
       "width": "145px"
      }
     },
     "7284d6d3682e4655959cc0759dc14795": {
      "model_module": "@jupyter-widgets/base",
      "model_module_version": "2.0.0",
      "model_name": "LayoutModel",
      "state": {
       "grid_template_areas": "\n                                       \". . . . right \"\n                                        ",
       "grid_template_columns": "20% 20% 20% 20% 20%",
       "width": "100%"
      }
     },
     "72ae1e40ddd9468b862c84f9b118848d": {
      "model_module": "@jupyter-widgets/controls",
      "model_module_version": "2.0.0",
      "model_name": "HTMLModel",
      "state": {
       "layout": "IPY_MODEL_636b16822788407489863b6520929cf7",
       "style": "IPY_MODEL_e8c791fc13af452b94463d7cdbbd2470",
       "value": "<h5>Backend</h5>"
      }
     },
     "9bbfff58f29f4d1b826c3e8b63a5c404": {
      "model_module": "@jupyter-widgets/controls",
      "model_module_version": "2.0.0",
      "model_name": "HTMLStyleModel",
      "state": {
       "description_width": "",
       "font_size": null,
       "text_color": null
      }
     },
     "a4dfbe0567cb4547988279e13d781e31": {
      "model_module": "@jupyter-widgets/base",
      "model_module_version": "2.0.0",
      "model_name": "LayoutModel",
      "state": {
       "grid_area": "right",
       "padding": "0px 0px 0px 0px",
       "width": "70px"
      }
     },
     "a71c2c37ecb64e2a97c47f605512976c": {
      "model_module": "@jupyter-widgets/base",
      "model_module_version": "2.0.0",
      "model_name": "LayoutModel",
      "state": {
       "margin": "0px 0px 10px 0px"
      }
     },
     "afc5ccdbf6e64dc680da40d0930988a4": {
      "model_module": "@jupyter-widgets/controls",
      "model_module_version": "2.0.0",
      "model_name": "GridBoxModel",
      "state": {
       "children": [
        "IPY_MODEL_52b7cbf38cc341daa4bf1178724212e9"
       ],
       "layout": "IPY_MODEL_7284d6d3682e4655959cc0759dc14795"
      }
     },
     "b33cfe28ba5b473ea8631c9cf520af02": {
      "model_module": "@jupyter-widgets/controls",
      "model_module_version": "2.0.0",
      "model_name": "HTMLStyleModel",
      "state": {
       "description_width": "",
       "font_size": null,
       "text_color": null
      }
     },
     "c91e6083215c47868895f49e6c84b0ec": {
      "model_module": "@jupyter-widgets/base",
      "model_module_version": "2.0.0",
      "model_name": "LayoutModel",
      "state": {
       "width": "95px"
      }
     },
     "ce654ada95584172a94b45e766f00785": {
      "model_module": "@jupyter-widgets/controls",
      "model_module_version": "2.0.0",
      "model_name": "ButtonStyleModel",
      "state": {
       "font_family": null,
       "font_size": null,
       "font_style": null,
       "font_variant": null,
       "font_weight": null,
       "text_color": null,
       "text_decoration": null
      }
     },
     "d97d5b5e8cb5414cba0433fd60e9993e": {
      "model_module": "@jupyter-widgets/controls",
      "model_module_version": "2.0.0",
      "model_name": "HBoxModel",
      "state": {
       "children": [
        "IPY_MODEL_0584a9946e2047e1bf5c4ac344fb31db",
        "IPY_MODEL_72ae1e40ddd9468b862c84f9b118848d",
        "IPY_MODEL_6026ea6bb31c441294c5129339f2473c",
        "IPY_MODEL_605db932aba441c58094dd5931dd37dd",
        "IPY_MODEL_324b1c1671634129b11fea1c3218066d"
       ],
       "layout": "IPY_MODEL_f5263e66c0444509858147abff3c715f"
      }
     },
     "e022dd4dd16345a2ba98cd856de5124d": {
      "model_module": "@jupyter-widgets/controls",
      "model_module_version": "2.0.0",
      "model_name": "HTMLStyleModel",
      "state": {
       "description_width": "",
       "font_size": null,
       "text_color": null
      }
     },
     "e8c791fc13af452b94463d7cdbbd2470": {
      "model_module": "@jupyter-widgets/controls",
      "model_module_version": "2.0.0",
      "model_name": "HTMLStyleModel",
      "state": {
       "description_width": "",
       "font_size": null,
       "text_color": null
      }
     },
     "f139b4dd08c84181be95dd61221941a9": {
      "model_module": "@jupyter-widgets/controls",
      "model_module_version": "2.0.0",
      "model_name": "HTMLStyleModel",
      "state": {
       "description_width": "",
       "font_size": null,
       "text_color": null
      }
     },
     "f5263e66c0444509858147abff3c715f": {
      "model_module": "@jupyter-widgets/base",
      "model_module_version": "2.0.0",
      "model_name": "LayoutModel",
      "state": {
       "margin": "0px 0px 0px 37px",
       "width": "600px"
      }
     },
     "fa6a978b033f4e28ae64ac3a4aa87d8f": {
      "model_module": "@jupyter-widgets/controls",
      "model_module_version": "2.0.0",
      "model_name": "HTMLModel",
      "state": {
       "layout": "IPY_MODEL_a71c2c37ecb64e2a97c47f605512976c",
       "style": "IPY_MODEL_e022dd4dd16345a2ba98cd856de5124d",
       "value": "<p style='font-family: IBM Plex Sans, Arial, Helvetica, sans-serif; font-size: 20px; font-weight: medium;'>Circuit Properties</p>"
      }
     }
    },
    "version_major": 2,
    "version_minor": 0
   }
  }
 },
 "nbformat": 4,
 "nbformat_minor": 5
}
